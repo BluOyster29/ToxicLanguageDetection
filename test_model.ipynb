{
 "cells": [
  {
   "cell_type": "markdown",
   "id": "a94a1239-bedd-4dac-a9c6-e33e7bb16c36",
   "metadata": {},
   "source": [
    "## Load Encoder"
   ]
  },
  {
   "cell_type": "code",
   "execution_count": 1,
   "id": "2afe0340-2701-4f14-804e-2e4b8d79d86b",
   "metadata": {},
   "outputs": [],
   "source": [
    "import pickle \n",
    "from utils.dataEncoder import DataEncoder"
   ]
  },
  {
   "cell_type": "code",
   "execution_count": 2,
   "id": "17edf5b1-a989-4566-a0d8-2c0bedbb4aad",
   "metadata": {},
   "outputs": [],
   "source": [
    "with open('./dataEncoder.pkl', 'rb') as file:\n",
    "    \n",
    "    data_encoder = pickle.load(file)\n",
    "    \n"
   ]
  },
  {
   "cell_type": "markdown",
   "id": "9970061b-7225-4430-9b6c-3f0370d33169",
   "metadata": {},
   "source": [
    "## Load Model"
   ]
  },
  {
   "cell_type": "code",
   "execution_count": 3,
   "id": "956ca54f-8c2b-47a3-8726-4362e1a0033f",
   "metadata": {},
   "outputs": [],
   "source": [
    "from utils.model import rnnModel\n",
    "import torch"
   ]
  },
  {
   "cell_type": "code",
   "execution_count": 4,
   "id": "e9fc61f6-518a-498d-8e32-9c762cb5a395",
   "metadata": {},
   "outputs": [],
   "source": [
    "model_path = './models/trained_model_epoch_20.pt'\n",
    "\n",
    "model = torch.load(model_path)"
   ]
  },
  {
   "cell_type": "markdown",
   "id": "ce8f9fd1-549a-41cb-a9ed-e1385d01f597",
   "metadata": {},
   "source": [
    "### Config\n"
   ]
  },
  {
   "cell_type": "code",
   "execution_count": 5,
   "id": "7b472c8c-1476-4cd4-9672-cff26f2ba659",
   "metadata": {},
   "outputs": [],
   "source": [
    "embedding_dim = data_encoder.pretrained_dim\n",
    "hidden_dim = 512\n",
    "vocab_size = len(data_encoder.vectors)\n",
    "output_size = 2\n",
    "num_layers = 2\n",
    "device = 'cpu'\n",
    "pretrained = True\n",
    "pretrained_vectors = data_encoder.vectors  "
   ]
  },
  {
   "cell_type": "code",
   "execution_count": 6,
   "id": "12151d9e-48fb-4d69-9c82-e05e6480f510",
   "metadata": {},
   "outputs": [
    {
     "data": {
      "text/plain": [
       "rnnModel(\n",
       "  (embed): Embedding(400004, 300, padding_idx=400003)\n",
       "  (lstm): GRU(300, 512, num_layers=2, batch_first=True, bidirectional=True)\n",
       "  (fc1): Linear(in_features=1024, out_features=2, bias=True)\n",
       "  (sigmoid): Sigmoid()\n",
       ")"
      ]
     },
     "execution_count": 6,
     "metadata": {},
     "output_type": "execute_result"
    }
   ],
   "source": [
    "model = rnnModel(vocab_size, hidden_dim, embedding_dim, output_size,\n",
    "                num_layers, pretrained=pretrained, pretrained_vectors=data_encoder.vectors)\n",
    "model.load_state_dict(torch.load(model_path))\n",
    "model.eval()"
   ]
  },
  {
   "cell_type": "code",
   "execution_count": 7,
   "id": "208e7c5c-c24b-4366-ab04-6a7edf780b7a",
   "metadata": {},
   "outputs": [],
   "source": [
    "def test_model(model, sent):\n",
    "\n",
    "    out = model(data_encoder.encode(test=[sent]))\n",
    "    if out.argmax().item():\n",
    "        print('Toxic')\n",
    "    else:\n",
    "        print('Not Toxic')\n"
   ]
  },
  {
   "cell_type": "code",
   "execution_count": 8,
   "id": "90ba6e4f-e9c6-4ae7-be92-9364c0a830c0",
   "metadata": {},
   "outputs": [],
   "source": [
    "def balance_dataset(df, MAX_TOXIC=None, MAX_DF=None):\n",
    "    \n",
    "    if not MAX_TOXIC:\n",
    "        MAX_TOXIC = len(df)\n",
    "    \n",
    "    if not MAX_DF:\n",
    "        MAX_DF = len(df)\n",
    "        \n",
    "    data = {'toxic'     : [],\n",
    "            'non_toxic' : []}\n",
    "\n",
    "    max_num_tox = 0\n",
    "\n",
    "    for idx in tqdm(range(len(df))):\n",
    "        \n",
    "        row = df.loc[idx]\n",
    "\n",
    "        if row.toxic == 0:\n",
    "            \n",
    "            if len(data['non_toxic']) >= MAX_DF:\n",
    "                continue\n",
    "                \n",
    "            data['non_toxic'].append((row.comment,0))\n",
    "            \n",
    "        elif row.toxic == 1:\n",
    "            \n",
    "            if len(data['toxic']) >= MAX_TOXIC:\n",
    "                continue\n",
    "                \n",
    "            data['toxic'].append((row.comment,1))\n",
    "         \n",
    "    dataset = list(data['toxic'] + data['non_toxic'])\n",
    "    random.shuffle(dataset)\n",
    "    \n",
    "    return [i[0] for i in dataset], [i[1] for i in dataset]"
   ]
  },
  {
   "cell_type": "markdown",
   "id": "01f9494b-33ec-47e4-866e-f653fbf842a0",
   "metadata": {},
   "source": [
    "## Load Testing Data"
   ]
  },
  {
   "cell_type": "code",
   "execution_count": 9,
   "id": "15a60cd1-29b5-4176-93e1-4ef9de99d363",
   "metadata": {},
   "outputs": [],
   "source": [
    "import pandas as pd\n",
    "from tqdm.auto import tqdm\n",
    "import random"
   ]
  },
  {
   "cell_type": "code",
   "execution_count": 10,
   "id": "41dd08f5-b020-4ed5-9767-15f2ee8a4a32",
   "metadata": {},
   "outputs": [
    {
     "data": {
      "application/vnd.jupyter.widget-view+json": {
       "model_id": "8de0b78d2a7743b0b9e59ca21fa74cf9",
       "version_major": 2,
       "version_minor": 0
      },
      "text/plain": [
       "  0%|          | 0/153164 [00:00<?, ?it/s]"
      ]
     },
     "metadata": {},
     "output_type": "display_data"
    }
   ],
   "source": [
    "eval_data = pd.read_csv('./data/processed_test.csv')\n",
    "train_x, train_y = balance_dataset(eval_data, MAX_TOXIC=6243, MAX_DF=15000)"
   ]
  },
  {
   "cell_type": "code",
   "execution_count": 11,
   "id": "1dcfe96b-49ab-41dd-ae94-e4abce45995a",
   "metadata": {},
   "outputs": [],
   "source": [
    "from torch.utils.data import DataLoader\n",
    "import torch\n",
    "from utils.preprocessing import rnnDataset"
   ]
  },
  {
   "cell_type": "code",
   "execution_count": 12,
   "id": "7461085b-3f43-44d1-a63a-48b850af0f7d",
   "metadata": {},
   "outputs": [],
   "source": [
    "encoded_test = data_encoder.encode(test=train_x,max_len=None)\n",
    "test_dataset = rnnDataset(encoded_test, train_y, data_encoder)\n",
    "test_dataloader = DataLoader(test_dataset, shuffle=True, batch_size=1)"
   ]
  },
  {
   "cell_type": "code",
   "execution_count": 16,
   "id": "f5875aef-9340-47e2-a531-56919d1cd02c",
   "metadata": {},
   "outputs": [
    {
     "data": {
      "application/vnd.jupyter.widget-view+json": {
       "model_id": "7a00e0c7deac4a1cbb297d8f0b41d753",
       "version_major": 2,
       "version_minor": 0
      },
      "text/plain": [
       "  0%|          | 0/21243 [00:00<?, ?it/s]"
      ]
     },
     "metadata": {},
     "output_type": "display_data"
    }
   ],
   "source": [
    "eval_loss = 0\n",
    "eval_accuracy = 0\n",
    "\n",
    "preds = []\n",
    "stop = 20\n",
    "verbose = False \n",
    "ys = []\n",
    "correct = 0\n",
    "\n",
    "for idx, i in enumerate(tqdm(test_dataloader)):\n",
    "    \n",
    "    if idx == stop:\n",
    "      break\n",
    "\n",
    "    x = i['x'].to(device)\n",
    "    y = i['y'].to(device)\n",
    "    \n",
    "    pred = model(x)\n",
    "    ys += y.argmax(dim=1).tolist()\n",
    "    preds += pred.argmax(dim=1).tolist()\n",
    "    "
   ]
  },
  {
   "cell_type": "code",
   "execution_count": 17,
   "id": "467e8e16-9e5f-4c3d-a213-6b1ba855bc54",
   "metadata": {},
   "outputs": [
    {
     "data": {
      "text/plain": [
       "[1, 1, 1, 0, 0, 0, 0, 1, 1, 0, 1, 0, 0, 0, 0, 1, 1, 1, 1, 0]"
      ]
     },
     "execution_count": 17,
     "metadata": {},
     "output_type": "execute_result"
    }
   ],
   "source": [
    "preds"
   ]
  },
  {
   "cell_type": "code",
   "execution_count": 18,
   "id": "c105a9bd-0cb0-46e9-ad64-edcfea2916bc",
   "metadata": {},
   "outputs": [
    {
     "data": {
      "text/plain": [
       "[1, 1, 1, 0, 0, 1, 0, 1, 1, 0, 0, 0, 0, 0, 0, 0, 1, 1, 0, 1]"
      ]
     },
     "execution_count": 18,
     "metadata": {},
     "output_type": "execute_result"
    }
   ],
   "source": [
    "ys"
   ]
  },
  {
   "cell_type": "code",
   "execution_count": 26,
   "id": "e3191464-4d4c-4a71-a0ae-a58e2969e2b9",
   "metadata": {},
   "outputs": [],
   "source": [
    "from sklearn.metrics import confusion_matrix, classification_report"
   ]
  },
  {
   "cell_type": "code",
   "execution_count": 24,
   "id": "3a01123e-c79c-431a-b996-7ea5867d6a49",
   "metadata": {},
   "outputs": [],
   "source": [
    "cm = confusion_matrix(ys, preds)"
   ]
  },
  {
   "cell_type": "code",
   "execution_count": 27,
   "id": "42916432-204c-4474-b15e-f5f8cdb34747",
   "metadata": {},
   "outputs": [
    {
     "name": "stdout",
     "output_type": "stream",
     "text": [
      "              precision    recall  f1-score   support\n",
      "\n",
      "           0       0.80      0.73      0.76        11\n",
      "           1       0.70      0.78      0.74         9\n",
      "\n",
      "    accuracy                           0.75        20\n",
      "   macro avg       0.75      0.75      0.75        20\n",
      "weighted avg       0.76      0.75      0.75        20\n",
      "\n"
     ]
    }
   ],
   "source": [
    "print(classification_report(ys, preds))"
   ]
  },
  {
   "cell_type": "code",
   "execution_count": null,
   "id": "51126fcc-5965-486a-904f-7354d903e0df",
   "metadata": {},
   "outputs": [],
   "source": []
  }
 ],
 "metadata": {
  "kernelspec": {
   "display_name": "Python 3 (ipykernel)",
   "language": "python",
   "name": "python3"
  },
  "language_info": {
   "codemirror_mode": {
    "name": "ipython",
    "version": 3
   },
   "file_extension": ".py",
   "mimetype": "text/x-python",
   "name": "python",
   "nbconvert_exporter": "python",
   "pygments_lexer": "ipython3",
   "version": "3.9.7"
  }
 },
 "nbformat": 4,
 "nbformat_minor": 5
}
