{
 "cells": [
  {
   "cell_type": "markdown",
   "id": "0053af5a-b5c8-44a0-9d8b-06a0cc411ce0",
   "metadata": {},
   "source": [
    "# Baseline Model for Detecting Toxic Comments "
   ]
  },
  {
   "cell_type": "code",
   "execution_count": 2,
   "id": "1d9c5dd2-865a-48ac-a306-672b3346caae",
   "metadata": {},
   "outputs": [],
   "source": [
    "import pandas as pd \n",
    "from tqdm.auto import tqdm\n",
    "import re\n"
   ]
  },
  {
   "cell_type": "code",
   "execution_count": 10,
   "id": "bd6c7280-4bdf-4442-80c5-78dd3be0a2e6",
   "metadata": {},
   "outputs": [],
   "source": [
    "training_raw = pd.read_csv('./data/processed_binary_dataset.csv')"
   ]
  },
  {
   "cell_type": "markdown",
   "id": "98e1335a-cf7a-411b-800a-d178a3dd83e4",
   "metadata": {},
   "source": [
    "## 1. Data Exploration "
   ]
  },
  {
   "cell_type": "code",
   "execution_count": 7,
   "id": "8bb29961-cf6b-46d5-98b2-5ed789ac3254",
   "metadata": {},
   "outputs": [],
   "source": [
    "def transformDataset(training_raw, test=None):\n",
    "\n",
    "    toxic = 0\n",
    "    non_toxic = 0\n",
    "    toxicity = []\n",
    "    data = {'comment' : [],\n",
    "            'toxic' : [],\n",
    "            'toxicity' : []\n",
    "           }\n",
    "\n",
    "    for i in tqdm(range(len(training_raw))):\n",
    "\n",
    "        comment = training_raw.loc[i].comment_text\n",
    "        values = training_raw.loc[i][2:].values\n",
    "        data['comment'].append(comment)\n",
    "        \n",
    "        if max(values) == 1:\n",
    "            toxic +=1\n",
    "            data['toxic'].append(1)\n",
    "\n",
    "        else:\n",
    "            non_toxic += 1\n",
    "            data['toxic'].append(0)\n",
    "\n",
    "        data['toxicity'].append(sum(values))\n",
    "\n",
    "    return data"
   ]
  },
  {
   "cell_type": "code",
   "execution_count": 8,
   "id": "fbb2e35c-2f22-437c-8391-980491f68590",
   "metadata": {},
   "outputs": [
    {
     "data": {
      "application/vnd.jupyter.widget-view+json": {
       "model_id": "8ceeaa8ec62f41d2bf3c79bc4181b87c",
       "version_major": 2,
       "version_minor": 0
      },
      "text/plain": [
       "  0%|          | 0/159571 [00:00<?, ?it/s]"
      ]
     },
     "metadata": {},
     "output_type": "display_data"
    }
   ],
   "source": [
    "transformed_raw = transformDataset(training_raw)"
   ]
  },
  {
   "cell_type": "code",
   "execution_count": 1,
   "id": "1bfd68b4-0377-4326-baa7-fab978ac0a4f",
   "metadata": {},
   "outputs": [
    {
     "ename": "NameError",
     "evalue": "name 'transformed_raw' is not defined",
     "output_type": "error",
     "traceback": [
      "\u001b[1;31m---------------------------------------------------------------------------\u001b[0m",
      "\u001b[1;31mNameError\u001b[0m                                 Traceback (most recent call last)",
      "Input \u001b[1;32mIn [1]\u001b[0m, in \u001b[0;36m<cell line: 1>\u001b[1;34m()\u001b[0m\n\u001b[1;32m----> 1\u001b[0m \u001b[43mtransformed_raw\u001b[49m\n",
      "\u001b[1;31mNameError\u001b[0m: name 'transformed_raw' is not defined"
     ]
    }
   ],
   "source": [
    "transformed_raw"
   ]
  },
  {
   "cell_type": "markdown",
   "id": "26f447c2-67c6-4861-bdb7-9c9a6467d130",
   "metadata": {},
   "source": [
    "## 2. Balance Dataset"
   ]
  },
  {
   "cell_type": "code",
   "execution_count": 9,
   "id": "bbd06642-92f8-4c13-9ac8-580778ba28bc",
   "metadata": {},
   "outputs": [],
   "source": [
    "transformed_df = pd.DataFrame(transformed_raw)"
   ]
  },
  {
   "cell_type": "code",
   "execution_count": 10,
   "id": "884b883d-1f62-438d-a758-e190b31c719c",
   "metadata": {},
   "outputs": [],
   "source": [
    "from utils.data_processing import balance_dataset"
   ]
  },
  {
   "cell_type": "code",
   "execution_count": 11,
   "id": "4701c674-865f-4395-bd21-8f9c8d065e12",
   "metadata": {},
   "outputs": [
    {
     "data": {
      "application/vnd.jupyter.widget-view+json": {
       "model_id": "23a9bab9433a42bd828f547cbb7ff4be",
       "version_major": 2,
       "version_minor": 0
      },
      "text/plain": [
       "  0%|          | 0/159571 [00:00<?, ?it/s]"
      ]
     },
     "metadata": {},
     "output_type": "display_data"
    },
    {
     "name": "stdout",
     "output_type": "stream",
     "text": [
      "Num Toxic: 16000\n",
      "Num Non-toxic: 20000\n"
     ]
    }
   ],
   "source": [
    "training_x, training_y = balance_dataset(transformed_df, MAX_DF=20000, MAX_TOXIC=16000)"
   ]
  },
  {
   "cell_type": "markdown",
   "id": "1f30fc4b-30cc-49a4-aeaa-7526f4c989fb",
   "metadata": {},
   "source": [
    "## 3. Preprocessing"
   ]
  },
  {
   "cell_type": "code",
   "execution_count": 12,
   "id": "e59c7130-0933-4dda-99b7-b3cfca1f1ac0",
   "metadata": {},
   "outputs": [],
   "source": [
    "bad_strings = re.compile(r'[\\n\"\\.,]')\n",
    "encodings = re.compile(u'\\\\?[a-z]+[0-9]·')\n",
    "\n",
    "def updateVec(row):\n",
    "    \n",
    "    vec = []\n",
    "    \n",
    "    vec.append(row.toxic)\n",
    "    vec.append(row.severe_toxic)\n",
    "    vec.append(row.obscene)\n",
    "    vec.append(row.threat)\n",
    "    vec.append(row.insult)\n",
    "    vec.append(row.identity_hate)\n",
    "    \n",
    "    return vec\n",
    "\n",
    "def preprocessString(input_string):\n",
    "    \n",
    "    string = re.sub(bad_strings, '' , input_string)\n",
    "    string = string.lower()\n",
    "    string = re.sub(encodings, '', string)\n",
    "    \n",
    "    return string\n",
    "\n",
    "def processRawDataFromCSV(input_csv, test=None):\n",
    "    \n",
    "    x = [] \n",
    "    y = []\n",
    "    \n",
    "    for i in tqdm(range(len(input_csv))):\n",
    "        row = input_csv.loc[i]\n",
    "        x.append(preprocessString(row.comment_text))\n",
    "        \n",
    "        if not test:\n",
    "            y.append(updateVec(row))\n",
    "        \n",
    "    return x, y\n",
    "\n",
    "def processRawDataFromList(x):\n",
    "    \n",
    "    return [preprocessString(i) for i in tqdm(x)]"
   ]
  },
  {
   "cell_type": "code",
   "execution_count": 13,
   "id": "ec5862ff-bf30-4dca-b5b0-7120c1e3b9a0",
   "metadata": {},
   "outputs": [
    {
     "data": {
      "application/vnd.jupyter.widget-view+json": {
       "model_id": "f1130dfa2071416e8558ac9d73c19237",
       "version_major": 2,
       "version_minor": 0
      },
      "text/plain": [
       "  0%|          | 0/36000 [00:00<?, ?it/s]"
      ]
     },
     "metadata": {},
     "output_type": "display_data"
    }
   ],
   "source": [
    "training_x_processed = processRawDataFromList(training_x)"
   ]
  },
  {
   "cell_type": "code",
   "execution_count": 14,
   "id": "e867da73-c5b8-4b51-9e71-008f58210606",
   "metadata": {},
   "outputs": [],
   "source": [
    "from utils.preprocessing import buildVocab"
   ]
  },
  {
   "cell_type": "code",
   "execution_count": 15,
   "id": "c11c8ba3-0827-4f4d-9c12-9399c71e29c7",
   "metadata": {},
   "outputs": [],
   "source": [
    "vocab, word_counts = buildVocab(training_x_processed)"
   ]
  },
  {
   "cell_type": "markdown",
   "id": "400e96e8-fa47-4f44-b0b2-44bbad0573b4",
   "metadata": {},
   "source": [
    "## 4. Encode Data"
   ]
  },
  {
   "cell_type": "code",
   "execution_count": 16,
   "id": "f26b0774-58cf-45fe-9652-850d82d0451a",
   "metadata": {},
   "outputs": [],
   "source": [
    "from utils.dataEncoder import DataEncoder"
   ]
  },
  {
   "cell_type": "code",
   "execution_count": 17,
   "id": "639a6831-fbd6-4046-9169-a1c16193c6ba",
   "metadata": {},
   "outputs": [],
   "source": [
    "data_encoder = DataEncoder(training_x_processed, modelFormat ='svm', vocab=vocab,threshold=None,\n",
    "                       max_num=None, min_num= None, word_counts=word_counts, \n",
    "                 pretrained=None, pretrained_dim=None )"
   ]
  },
  {
   "cell_type": "code",
   "execution_count": 18,
   "id": "e07e7fb3-5ee4-4959-9053-74b857fbf459",
   "metadata": {},
   "outputs": [],
   "source": [
    "encoded_train = data_encoder.encode(test=None)"
   ]
  },
  {
   "cell_type": "code",
   "execution_count": null,
   "id": "3ed70694-f09c-45ec-bdf5-8739be699b07",
   "metadata": {},
   "outputs": [],
   "source": []
  },
  {
   "cell_type": "markdown",
   "id": "660bdcab-3b67-43a1-9dd8-553d6d6adddb",
   "metadata": {},
   "source": [
    "## Support Vector Machine "
   ]
  },
  {
   "cell_type": "code",
   "execution_count": 22,
   "id": "920315a8-c1db-469b-8023-d15ad56814dc",
   "metadata": {},
   "outputs": [],
   "source": [
    "from sklearn.feature_extraction.text import CountVectorizer"
   ]
  },
  {
   "cell_type": "code",
   "execution_count": 23,
   "id": "919e8bfa-6f5b-456b-a929-3da908b3b746",
   "metadata": {},
   "outputs": [],
   "source": [
    "vectorizer = CountVectorizer(analyzer='word', \n",
    "                             ngram_range=(1, 2),\n",
    "                             stop_words='english',\n",
    "                             min_df=5)"
   ]
  },
  {
   "cell_type": "code",
   "execution_count": 24,
   "id": "697d7341-d15a-4b3d-a4c7-a1b399a32a64",
   "metadata": {},
   "outputs": [],
   "source": [
    "X = vectorizer.fit_transform(training_x_processed)"
   ]
  },
  {
   "cell_type": "code",
   "execution_count": 25,
   "id": "37a08b1e-0666-4a75-99ef-a03fafbb13f3",
   "metadata": {},
   "outputs": [],
   "source": [
    "from sklearn.svm import SVC\n",
    "from sklearn.pipeline import make_pipeline\n",
    "from sklearn.preprocessing import StandardScaler"
   ]
  },
  {
   "cell_type": "code",
   "execution_count": 26,
   "id": "59456506-c7c6-4996-8ec4-2f5d9262fadf",
   "metadata": {},
   "outputs": [],
   "source": [
    "clf = make_pipeline(SVC(gamma='auto',kernel='linear', verbose=True))"
   ]
  },
  {
   "cell_type": "code",
   "execution_count": 27,
   "id": "67f86506-fa80-4162-8ea5-bbe910d690b4",
   "metadata": {},
   "outputs": [
    {
     "name": "stdout",
     "output_type": "stream",
     "text": [
      "[LibSVM]"
     ]
    },
    {
     "data": {
      "text/plain": [
       "Pipeline(steps=[('svc', SVC(gamma='auto', kernel='linear', verbose=True))])"
      ]
     },
     "execution_count": 27,
     "metadata": {},
     "output_type": "execute_result"
    }
   ],
   "source": [
    "clf.fit(X, training_y)"
   ]
  },
  {
   "cell_type": "code",
   "execution_count": 28,
   "id": "692e9849-35cf-48ca-981b-556949f1bdfe",
   "metadata": {},
   "outputs": [],
   "source": [
    "test = ['I hope you have a nice day you are a really great person']\n",
    "\n",
    "test_vec = vectorizer.transform(test)"
   ]
  },
  {
   "cell_type": "code",
   "execution_count": 29,
   "id": "e65c7486-6261-498f-a20e-32cd836df6ba",
   "metadata": {},
   "outputs": [],
   "source": [
    "def test(input_string):\n",
    "    test_vec = vectorizer.transform([input_string])\n",
    "    pred(clf, test_vec)\n",
    "\n",
    "def pred(clf, test_vec):\n",
    "    if clf.predict(test_vec).item() == 1:\n",
    "        print('Toxic')\n",
    "    else:\n",
    "        print('Not Toxic')"
   ]
  },
  {
   "cell_type": "markdown",
   "id": "a44bc389-2bd6-457c-87b5-9d26d1eea50f",
   "metadata": {},
   "source": [
    "## Testing Model"
   ]
  },
  {
   "cell_type": "code",
   "execution_count": 37,
   "id": "3746fa50-cdbf-44bf-90b7-1d481a483d03",
   "metadata": {},
   "outputs": [],
   "source": [
    "import pandas as pd\n",
    "from tqdm.auto import tqdm\n",
    "import random"
   ]
  },
  {
   "cell_type": "code",
   "execution_count": 38,
   "id": "bbdfa910-57d7-451e-9488-8133d37cb312",
   "metadata": {},
   "outputs": [
    {
     "data": {
      "application/vnd.jupyter.widget-view+json": {
       "model_id": "0db8ca4149f34686bdb173ccc36f42b3",
       "version_major": 2,
       "version_minor": 0
      },
      "text/plain": [
       "  0%|          | 0/153164 [00:00<?, ?it/s]"
      ]
     },
     "metadata": {},
     "output_type": "display_data"
    },
    {
     "name": "stdout",
     "output_type": "stream",
     "text": [
      "Num Toxic: 6243\n",
      "Num Non-toxic: 15000\n"
     ]
    }
   ],
   "source": [
    "eval_data = pd.read_csv('./data/processed_test.csv')\n",
    "train_x, train_y = balance_dataset(eval_data, MAX_TOXIC=6243, MAX_DF=15000)"
   ]
  },
  {
   "cell_type": "code",
   "execution_count": 40,
   "id": "7f16fa35-c6c6-4e23-a89b-ab080742ad2f",
   "metadata": {},
   "outputs": [],
   "source": [
    "from torch.utils.data import DataLoader\n",
    "import torch\n",
    "from utils.preprocessing import rnnDataset"
   ]
  },
  {
   "cell_type": "code",
   "execution_count": 42,
   "id": "a41b453b-840e-4ce6-97bc-650d17198a9e",
   "metadata": {},
   "outputs": [],
   "source": [
    "X = vectorizer.transform(train_x)"
   ]
  },
  {
   "cell_type": "code",
   "execution_count": 44,
   "id": "d3aad7d7-0830-4451-a805-ae1b54bbd8fd",
   "metadata": {},
   "outputs": [],
   "source": [
    "preds = clf.predict(X)"
   ]
  },
  {
   "cell_type": "code",
   "execution_count": 46,
   "id": "7e9e3ad9-498c-4517-8239-8a6e6783709b",
   "metadata": {},
   "outputs": [],
   "source": [
    "from sklearn.metrics import confusion_matrix, classification_report"
   ]
  },
  {
   "cell_type": "code",
   "execution_count": 55,
   "id": "773d33ef-6708-494f-9eab-198ff063436d",
   "metadata": {},
   "outputs": [
    {
     "data": {
      "text/plain": [
       "array([1, 1, 1, ..., 0, 1, 1])"
      ]
     },
     "execution_count": 55,
     "metadata": {},
     "output_type": "execute_result"
    }
   ],
   "source": []
  },
  {
   "cell_type": "code",
   "execution_count": 56,
   "id": "aab2ef69-81b3-492d-87d4-e66a2634ec6d",
   "metadata": {},
   "outputs": [
    {
     "name": "stdout",
     "output_type": "stream",
     "text": [
      "              precision    recall  f1-score   support\n",
      "\n",
      "           0       0.96      0.72      0.82     15000\n",
      "           1       0.58      0.92      0.71      6243\n",
      "\n",
      "    accuracy                           0.78     21243\n",
      "   macro avg       0.77      0.82      0.77     21243\n",
      "weighted avg       0.85      0.78      0.79     21243\n",
      "\n"
     ]
    }
   ],
   "source": [
    "print(classification_report(train_y, preds))"
   ]
  },
  {
   "cell_type": "markdown",
   "id": "c6709994-abc7-409d-9b11-7fa3adc204cb",
   "metadata": {},
   "source": [
    "## Save Model "
   ]
  },
  {
   "cell_type": "code",
   "execution_count": 34,
   "id": "53002b4e-0ad2-4fa7-b4bb-1bc12f504bfb",
   "metadata": {},
   "outputs": [],
   "source": [
    "import pickle"
   ]
  },
  {
   "cell_type": "code",
   "execution_count": 35,
   "id": "37f30ff5-ed37-4d12-ac3c-124b7a598e11",
   "metadata": {},
   "outputs": [],
   "source": [
    "model_name = 'svm_baseline.pkl'\n",
    "folder = './models'\n",
    "\n",
    "def save_model(model_name, folder, model):\n",
    "    with open(f'{folder}/{model_name}', 'wb') as file:\n",
    "\n",
    "        pickle.dump(model, file)\n",
    "        \n",
    "    print(f'Model outputted to {folder}/{model_name}')"
   ]
  },
  {
   "cell_type": "code",
   "execution_count": 36,
   "id": "ad0ea755-61bd-4048-a1ee-7ff1688ef9ef",
   "metadata": {},
   "outputs": [
    {
     "name": "stdout",
     "output_type": "stream",
     "text": [
      "Model outputted to ./models/svm_baseline.pkl\n"
     ]
    }
   ],
   "source": [
    "save_model(model_name, folder, clf)"
   ]
  },
  {
   "cell_type": "code",
   "execution_count": null,
   "id": "efd0fcc8-1fa5-48a9-9463-1a61055e656a",
   "metadata": {},
   "outputs": [],
   "source": []
  }
 ],
 "metadata": {
  "kernelspec": {
   "display_name": "Python 3 (ipykernel)",
   "language": "python",
   "name": "python3"
  },
  "language_info": {
   "codemirror_mode": {
    "name": "ipython",
    "version": 3
   },
   "file_extension": ".py",
   "mimetype": "text/x-python",
   "name": "python",
   "nbconvert_exporter": "python",
   "pygments_lexer": "ipython3",
   "version": "3.9.7"
  }
 },
 "nbformat": 4,
 "nbformat_minor": 5
}
