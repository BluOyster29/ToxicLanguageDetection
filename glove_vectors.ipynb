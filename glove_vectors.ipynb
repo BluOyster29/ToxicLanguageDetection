{
 "cells": [
  {
   "cell_type": "code",
   "execution_count": 38,
   "id": "b2244186-45c2-4c9e-8370-00a60dce73ce",
   "metadata": {},
   "outputs": [],
   "source": [
    "import requests\n",
    "import os\n",
    "from tqdm.auto import tqdm\n",
    "import zipfile\n"
   ]
  },
  {
   "cell_type": "code",
   "execution_count": 20,
   "id": "369e9df2-41cd-40eb-a4a9-425f398a33e5",
   "metadata": {},
   "outputs": [],
   "source": [
    "def checkFolderPath(folder_path):\n",
    "\n",
    "    if os.path.exists(folder_path):\n",
    "        print(f'{folder_path} found')\n",
    "    else:\n",
    "        print(f'{folder_path} does not exist\\nCreating {folder_path}')\n",
    "        os.mkdir(folder_path)\n",
    "        "
   ]
  },
  {
   "cell_type": "code",
   "execution_count": 32,
   "id": "72b3eead-c12b-4964-acf0-771d1585aa07",
   "metadata": {},
   "outputs": [],
   "source": [
    "def downloadGloveVectors(url, root_folder):\n",
    "\n",
    "    filename = url.split('/')[-1]\n",
    "    vector_folder = f'{root_folder}vectors/'\n",
    "    \n",
    "    checkFolderPath(vector_folder)\n",
    "    \n",
    "    filepath = f'{vector_folder}{filename}'\n",
    "    response = requests.get(url, stream=True)\n",
    "    total_size_in_bytes= int(response.headers.get('content-length', 0))\n",
    "    block_size = 1024 #1 Kibibyte\n",
    "    progress_bar = tqdm(total=total_size_in_bytes, unit='iB', unit_scale=True, desc='Downloading vectors')\n",
    "\n",
    "    with open(filepath, 'wb') as file:\n",
    "        for data in response.iter_content(block_size):\n",
    "            progress_bar.update(len(data))\n",
    "            file.write(data)\n",
    "    progress_bar.close()\n",
    "    if total_size_in_bytes != 0 and progress_bar.n != total_size_in_bytes:\n",
    "        print(\"ERROR, something went wrong\")\n",
    "\n",
    "    else:\n",
    "        print(f'Success!\\nGlove Vectors saved to {filepath}\\nHave a nice day')\n",
    "    \n",
    "    return filepath"
   ]
  },
  {
   "cell_type": "code",
   "execution_count": 48,
   "id": "a01f1704-c782-4725-a71d-0ef0705e05c8",
   "metadata": {},
   "outputs": [],
   "source": [
    " def unzipFile(vector_path, zip_path):\n",
    "\n",
    "    try:\n",
    "        with zipfile.ZipFile(zip_path) as z:\n",
    "            z.extractall(vector_path)\n",
    "            print(f\"Extracted all files to {vector_path}\")\n",
    "            print('\\nContents of {vector_path}: ')\n",
    "            for i in os.listdir(vector_path):\n",
    "                print(i)\n",
    "            \n",
    "    except:\n",
    "        print(\"Invalid file\")"
   ]
  },
  {
   "cell_type": "code",
   "execution_count": 44,
   "id": "5f672f4c-fd12-466c-854e-4cb8ea383f12",
   "metadata": {},
   "outputs": [],
   "source": [
    "def open_vectors(glove_path):\n",
    "    \n",
    "    with open(glove_path, 'rb') as file:\n",
    "\n",
    "        vectors = file.read().splitlines()\n",
    "        \n",
    "    return vectors\n",
    "\n",
    "def process_vectors(raw_vectors):\n",
    "    \n",
    "    vocab = {}\n",
    "\n",
    "    for vec in tqdm(raw_vectors, total=len(raw_vectors)):\n",
    "        \n",
    "        splat_vec = vec.decode().split(' ')\n",
    "        word = splat_vec[0]\n",
    "        vector = np.array(splat_vec[1:], dtype=float)\n",
    "        vocab[word] = vector\n",
    "\n",
    "    return vocab"
   ]
  },
  {
   "cell_type": "code",
   "execution_count": 45,
   "id": "c9c66c4f-dfd0-4e6e-a79b-097ad7319a71",
   "metadata": {},
   "outputs": [],
   "source": [
    "url = \"https://nlp.stanford.edu/data/glove.6B.zip\" #big file test\n",
    "root_folder = './'\n",
    "unzipFile('./vectors/', './vectors/glove.6B.zip')"
   ]
  },
  {
   "cell_type": "code",
   "execution_count": 46,
   "id": "912547e4-7354-4158-8fc6-5f3faee2a706",
   "metadata": {},
   "outputs": [],
   "source": [
    "#downloadGloveVectors(url, root_folder)"
   ]
  },
  {
   "cell_type": "code",
   "execution_count": 47,
   "id": "d5e4255f-7b29-4572-b42a-355c58f4e220",
   "metadata": {},
   "outputs": [
    {
     "name": "stdout",
     "output_type": "stream",
     "text": [
      "Extracted all files to ./vectors/\n",
      "Extracted files: \n",
      ".ipynb_checkpoints\n",
      "glove.6B.100d.txt\n",
      "glove.6B.200d.txt\n",
      "glove.6B.300d.txt\n",
      "glove.6B.50d.txt\n",
      "glove.6B.zip\n"
     ]
    }
   ],
   "source": []
  },
  {
   "cell_type": "code",
   "execution_count": null,
   "id": "68d30048-8c9a-48d6-acb0-5af1231d97d0",
   "metadata": {},
   "outputs": [],
   "source": []
  }
 ],
 "metadata": {
  "kernelspec": {
   "display_name": "Python 3 (ipykernel)",
   "language": "python",
   "name": "python3"
  },
  "language_info": {
   "codemirror_mode": {
    "name": "ipython",
    "version": 3
   },
   "file_extension": ".py",
   "mimetype": "text/x-python",
   "name": "python",
   "nbconvert_exporter": "python",
   "pygments_lexer": "ipython3",
   "version": "3.9.7"
  }
 },
 "nbformat": 4,
 "nbformat_minor": 5
}
